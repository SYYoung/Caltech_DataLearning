{
 "cells": [
  {
   "cell_type": "code",
   "execution_count": 17,
   "metadata": {},
   "outputs": [],
   "source": [
    "import numpy as np"
   ]
  },
  {
   "cell_type": "code",
   "execution_count": 18,
   "metadata": {},
   "outputs": [
    {
     "data": {
      "text/plain": [
       "array([1, 2, 3, 4, 0, 0, 0, 7])"
      ]
     },
     "execution_count": 18,
     "metadata": {},
     "output_type": "execute_result"
    }
   ],
   "source": [
    "y = np.array([1,2,3,4,0,0,0,7])\n",
    "y"
   ]
  },
  {
   "cell_type": "code",
   "execution_count": 19,
   "metadata": {},
   "outputs": [],
   "source": [
    "group1 = 0"
   ]
  },
  {
   "cell_type": "code",
   "execution_count": 20,
   "metadata": {},
   "outputs": [
    {
     "data": {
      "text/plain": [
       "array([False, False, False, False,  True,  True,  True, False])"
      ]
     },
     "execution_count": 20,
     "metadata": {},
     "output_type": "execute_result"
    }
   ],
   "source": [
    "y==group1"
   ]
  },
  {
   "cell_type": "code",
   "execution_count": 21,
   "metadata": {},
   "outputs": [
    {
     "data": {
      "text/plain": [
       "array([-1, -1, -1, -1,  1,  1,  1, -1])"
      ]
     },
     "execution_count": 21,
     "metadata": {},
     "output_type": "execute_result"
    }
   ],
   "source": [
    "newY = y.copy()\n",
    "newY[y!=group1] = -1\n",
    "newY[y==group1] = 1\n",
    "newY"
   ]
  },
  {
   "cell_type": "code",
   "execution_count": 22,
   "metadata": {},
   "outputs": [
    {
     "name": "stdout",
     "output_type": "stream",
     "text": [
      "[[1 2 3 4 0 0 0 7]]\n",
      "[1 2 3 4 0 0 0 7]\n"
     ]
    }
   ],
   "source": [
    "y2 = y.reshape(1,8)\n",
    "print(y2)\n",
    "print(y)"
   ]
  },
  {
   "cell_type": "code",
   "execution_count": 23,
   "metadata": {},
   "outputs": [
    {
     "data": {
      "text/plain": [
       "array([[ 1,  2,  3],\n",
       "       [ 4,  6,  8],\n",
       "       [ 9, 12, 15]])"
      ]
     },
     "execution_count": 23,
     "metadata": {},
     "output_type": "execute_result"
    }
   ],
   "source": [
    "a1 = np.array([[1],[2],[3]])\n",
    "a2 = np.array(([1,2,3],[2,3,4],[3,4,5]))\n",
    "a1 * a2"
   ]
  },
  {
   "cell_type": "code",
   "execution_count": 24,
   "metadata": {},
   "outputs": [
    {
     "name": "stdout",
     "output_type": "stream",
     "text": [
      "[[1]\n",
      " [2]\n",
      " [3]]\n",
      "[[1 2 3]\n",
      " [2 3 4]\n",
      " [3 4 5]]\n",
      "[[ 1  2  3]\n",
      " [ 4  6  8]\n",
      " [ 9 12 15]]\n"
     ]
    }
   ],
   "source": [
    "a1 = np.array([[1],[2],[3]])\n",
    "print(a1)\n",
    "print(a2)\n",
    "print(a1 * a2)"
   ]
  },
  {
   "cell_type": "code",
   "execution_count": 25,
   "metadata": {},
   "outputs": [
    {
     "data": {
      "text/plain": [
       "{'0': 5, '1': 4}"
      ]
     },
     "execution_count": 25,
     "metadata": {},
     "output_type": "execute_result"
    }
   ],
   "source": [
    "a = {}\n",
    "a[\"0\"] = 5\n",
    "a[\"1\"] = 4\n",
    "a"
   ]
  },
  {
   "cell_type": "code",
   "execution_count": 26,
   "metadata": {},
   "outputs": [],
   "source": [
    "import pandas as pd\n",
    "import matplotlib.pyplot as plt\n",
    "%matplotlib inline"
   ]
  },
  {
   "cell_type": "code",
   "execution_count": 27,
   "metadata": {},
   "outputs": [],
   "source": [
    "def loadFile(fname):\n",
    "    y = []\n",
    "    x = []\n",
    "    with open(fname) as f:\n",
    "        for line in f:\n",
    "            myInput = list(map(float, line.split()))\n",
    "            y.append(int(myInput[0]))\n",
    "            x.append(myInput[1:])\n",
    "    return np.array(x), np.array(y)"
   ]
  },
  {
   "cell_type": "code",
   "execution_count": 28,
   "metadata": {},
   "outputs": [],
   "source": [
    "def modifyY(Y, group1):\n",
    "    newY = Y.copy()\n",
    "    newY[Y != group1] = -1\n",
    "    newY[Y == group1] = 1\n",
    "\n",
    "    return newY"
   ]
  },
  {
   "cell_type": "code",
   "execution_count": 83,
   "metadata": {},
   "outputs": [
    {
     "name": "stdout",
     "output_type": "stream",
     "text": [
      "[9 6 3 6 6 0 0 0 6 9]\n",
      "[-1  1 -1 -1 -1]\n",
      "[[ 0.27217773 -4.8479375 ]\n",
      " [ 0.26513281 -5.102     ]\n",
      " [ 0.33592578 -2.9215625 ]\n",
      " [ 0.26484961 -4.156625  ]\n",
      " [ 0.34533789 -6.7184375 ]\n",
      " [ 0.35238477 -3.8115    ]\n",
      " [ 0.32790625 -2.326875  ]\n",
      " [ 0.35039453 -2.537     ]\n",
      " [ 0.32275781 -5.423125  ]\n",
      " [ 0.18936133 -3.1240625 ]]\n",
      "[[ 0.26513281 -5.102     ]\n",
      " [ 0.33592578 -2.9215625 ]\n",
      " [ 0.26484961 -4.156625  ]\n",
      " [ 0.34533789 -6.7184375 ]\n",
      " [ 0.32275781 -5.423125  ]]\n"
     ]
    }
   ],
   "source": [
    "def modifyY_1v1(X, Y, group1, group2):\n",
    "    h1 = Y != group1\n",
    "    h2 = Y != group2\n",
    "    h3 = np.logical_and(h1, h2)\n",
    "    #print(h3)\n",
    "    Y2 = np.delete(Y, np.where(h3))\n",
    "    X2 = np.delete(X, np.where(h3), axis=0)\n",
    "    Y3 = modifyY(Y2, group1)\n",
    "    return X2, Y3\n",
    "\n",
    "x, y1 = loadFile(\"./test_feature.txt\")\n",
    "x2, y2 = modifyY_1v1(x, y1, 3, 6)\n",
    "print(y1)\n",
    "print(y2)\n",
    "print(x)\n",
    "print(x2)"
   ]
  },
  {
   "cell_type": "code",
   "execution_count": 30,
   "metadata": {},
   "outputs": [
    {
     "name": "stdout",
     "output_type": "stream",
     "text": [
      "[9 6 3 6 6 0 0 0 6 9]\n",
      "[ True  True False  True  True  True  True  True  True  True]\n",
      "[ True False  True False False  True  True  True False  True]\n",
      "[ True False False False False  True  True  True False  True]\n"
     ]
    }
   ],
   "source": [
    "\n",
    "x, y1 = loadFile(\"./test_feature.txt\")\n",
    "h1 = y1 != 3\n",
    "h2 = y1 !=6\n",
    "h3 = np.logical_and(h1, h2)\n",
    "print(y1)\n",
    "print(h1)\n",
    "print(h2)\n",
    "print(h3)"
   ]
  },
  {
   "cell_type": "code",
   "execution_count": 31,
   "metadata": {},
   "outputs": [
    {
     "data": {
      "text/plain": [
       "array([6, 5, 4, 7, 3, 6, 3, 1, 0, 1, 7, 0, 1, 1, 7, 7, 4, 8, 0, 1])"
      ]
     },
     "execution_count": 31,
     "metadata": {},
     "output_type": "execute_result"
    }
   ],
   "source": [
    "X, Y1 = loadFile(\"./features.train.txt\")\n",
    "len(Y1)\n",
    "Y1[:20]"
   ]
  },
  {
   "cell_type": "code",
   "execution_count": 74,
   "metadata": {},
   "outputs": [],
   "source": [
    "from sklearn.svm import SVC\n",
    "from sklearn.model_selection import cross_val_score\n",
    "from sklearn.model_selection import KFold"
   ]
  },
  {
   "cell_type": "code",
   "execution_count": 33,
   "metadata": {},
   "outputs": [],
   "source": [
    "def buildDF(myList, data1, data2, data3=None):\n",
    "    if data3 == None:\n",
    "        d = {'Ein': data1, 'num of support vectors': data2}\n",
    "    else:\n",
    "        d = {'Ein': data1, 'num of support vectors': data2, \"Eout\": data3}\n",
    "    df = pd.DataFrame(data=d, index = myList)\n",
    "    return df"
   ]
  },
  {
   "cell_type": "code",
   "execution_count": 93,
   "metadata": {},
   "outputs": [],
   "source": [
    "?cross_val_score\n"
   ]
  },
  {
   "cell_type": "code",
   "execution_count": 94,
   "metadata": {},
   "outputs": [],
   "source": [
    "def testEin_1v1_CV_better():\n",
    "    X, Y1 = loadFile(\"./features.train.txt\")\n",
    "    testX, testY = loadFile(\"./features.test.txt\")\n",
    "    \n",
    "    CList = [0.0001, 0.001, 0.01, 0.1, 1]\n",
    "    \n",
    "    group1 = 1\n",
    "    group2 = 5\n",
    "    X2, Y2 = modifyY_1v1(X, Y1, group1, group2)\n",
    "    \n",
    "    whichC = []\n",
    "    for iter in range(5):\n",
    "        score_all = []\n",
    "        for c in CList:\n",
    "            #cv = KFold(n_splits=10, random_state=iter, shuffle=True)\n",
    "            cv = KFold(n_splits=10, shuffle=True)\n",
    "            svclassifier = SVC(kernel='poly', degree=2, C=c, random_state = iter, gamma='auto')\n",
    "            #svclassifier.fit(X2, Y2)\n",
    "            scores = cross_val_score(svclassifier, X2, Y2, scoring = 'accuracy', cv=cv, n_jobs=-1)\n",
    "            mean_score = np.mean(scores)\n",
    "            score_all.append(mean_score)\n",
    "        print(score_all)\n",
    "        whichC.append(CList[np.argmax(score_all)])\n",
    "    \n",
    "    return whichC"
   ]
  },
  {
   "cell_type": "code",
   "execution_count": 95,
   "metadata": {},
   "outputs": [
    {
     "name": "stdout",
     "output_type": "stream",
     "text": [
      "[0.9756614404703576, 0.9923117752735587, 0.995516903478687, 0.9948758778376614, 0.9948717948717949]\n",
      "[0.9756532745386247, 0.9929528009145845, 0.9955128205128206, 0.9955128205128204, 0.9961620120855791]\n",
      "[0.9756491915727583, 0.9923117752735585, 0.9955209864445532, 0.9955128205128204, 0.9948758778376613]\n",
      "[0.9756491915727585, 0.9929609668463172, 0.9955128205128204, 0.995516903478687, 0.9961538461538464]\n",
      "[0.9756491915727585, 0.9916666666666668, 0.9955209864445533, 0.9955209864445533, 0.9955209864445533]\n",
      "[0.01, 1, 0.01, 1, 0.01]\n"
     ]
    },
    {
     "data": {
      "text/plain": [
       "(array([3., 0., 0., 0., 0., 0., 0., 0., 0., 2.]),\n",
       " array([0.01 , 0.109, 0.208, 0.307, 0.406, 0.505, 0.604, 0.703, 0.802,\n",
       "        0.901, 1.   ]),\n",
       " <a list of 10 Patch objects>)"
      ]
     },
     "execution_count": 95,
     "metadata": {},
     "output_type": "execute_result"
    },
    {
     "data": {
      "image/png": "[encoded data removed]",
      "text/plain": [
       "<Figure size 432x288 with 1 Axes>"
      ]
     },
     "metadata": {
      "needs_background": "light"
     },
     "output_type": "display_data"
    }
   ],
   "source": [
    "whichC = testEin_1v1_CV_better()\n",
    "print(whichC)\n",
    "plt.hist(whichC)"
   ]
  },
  {
   "cell_type": "code",
   "execution_count": 72,
   "metadata": {},
   "outputs": [],
   "source": [
    "def testEin_1v1_CV():\n",
    "    X, Y1 = loadFile(\"./features.train.txt\")\n",
    "    testX, testY = loadFile(\"./features.test.txt\")\n",
    "    #groups = [0, 2, 4, 6, 8]\n",
    "    groups = [0]\n",
    "    Ein_All = []\n",
    "    Eout_All = []\n",
    "    svc_num = []\n",
    "    CList = [0.0001, 0.001, 0.01, 0.1, 1]\n",
    "    \n",
    "    group1 = 1\n",
    "    group2 = 5\n",
    "    X2, Y2 = modifyY_1v1(X, Y1, group1, group2)\n",
    "    \n",
    "    whichC = []\n",
    "    for iter in range(5):\n",
    "        score_all = []\n",
    "        for c in CList:\n",
    "            svclassifier = SVC(kernel='poly', degree=2, C=c, random_state = iter, gamma='auto')\n",
    "            svclassifier.fit(X2, Y2)\n",
    "            scores = cross_val_score(svclassifier, X2, Y2, cv=10)\n",
    "            mean_score = np.mean(scores)\n",
    "            score_all.append(mean_score)\n",
    "        print(score_all)\n",
    "        whichC.append(CList[np.argmax(score_all)])\n",
    "    \n",
    "    return whichC\n",
    "        "
   ]
  },
  {
   "cell_type": "code",
   "execution_count": 73,
   "metadata": {},
   "outputs": [
    {
     "name": "stdout",
     "output_type": "stream",
     "text": [
      "[ True False  True ...  True  True False]\n",
      "[0.9756688161506325, 0.9923032932412428, 0.9955044438473657, 0.9955044438473657, 0.9948592825570431]\n",
      "[0.9756688161506325, 0.9923032932412428, 0.9955044438473657, 0.9955044438473657, 0.9948592825570431]\n",
      "[0.9756688161506325, 0.9923032932412428, 0.9955044438473657, 0.9955044438473657, 0.9948592825570431]\n",
      "[0.9756688161506325, 0.9923032932412428, 0.9955044438473657, 0.9955044438473657, 0.9948592825570431]\n",
      "[0.9756688161506325, 0.9923032932412428, 0.9955044438473657, 0.9955044438473657, 0.9948592825570431]\n",
      "[0.01, 0.01, 0.01, 0.01, 0.01]\n"
     ]
    }
   ],
   "source": [
    "whichC = testEin_1v1_CV()\n",
    "print(whichC)"
   ]
  },
  {
   "cell_type": "code",
   "execution_count": 50,
   "metadata": {},
   "outputs": [],
   "source": [
    "def testEin_1v1_RGB():\n",
    "    X, Y1 = loadFile(\"./features.train.txt\")\n",
    "    testX, testY = loadFile(\"./features.test.txt\")\n",
    "    #groups = [0, 2, 4, 6, 8]\n",
    "    groups = [0]\n",
    "    Ein_All = []\n",
    "    Eout_All = []\n",
    "    svc_num = []\n",
    "    #CList = [0.001, 0.01, 0.1, 1]\n",
    "    CList = [0.01, 1, 100, 1.4e4, 1.0e6]\n",
    "    for c in CList:\n",
    "        group1 = 1\n",
    "        group2 = 5\n",
    "        X2, Y2 = modifyY_1v1(X, Y1, group1, group2)\n",
    "        svclassifier = SVC(kernel='rbf', degree=2, C=c, verbose=False)\n",
    "        svclassifier.fit(X2, Y2)\n",
    "        y_pred = svclassifier.predict(X2)\n",
    "        \n",
    "        Ein = 1 - sum(Y2 == y_pred)/len(Y2)\n",
    "        print('C = ' + str(c) + \", Ein = \" + str(Ein))\n",
    "        Ein_All.append(Ein)\n",
    "        \n",
    "        num = svclassifier.n_support_\n",
    "        print('C = ' + str(c) + \", total support vectors = \" + str(num))\n",
    "        svc_num.append(num)\n",
    "        \n",
    "        # examine Eout\n",
    "        testX2, testY2 = modifyY_1v1(testX, testY, group1, group2)\n",
    "        testy_pred = svclassifier.predict(testX2)\n",
    "        Eout = 1 - sum(testY2 == testy_pred)/len(testY2)\n",
    "        print('C = ' + str(c) + \", Eout = \" + str(Eout))\n",
    "        Eout_All.append(Eout)\n",
    "        \n",
    "    print(Ein_All)\n",
    "    print(svc_num)\n",
    "    print(Eout_All)\n",
    "    df = buildDF(CList, Ein_All, svc_num, Eout_All)\n",
    "    print(df)"
   ]
  },
  {
   "cell_type": "code",
   "execution_count": 51,
   "metadata": {},
   "outputs": [
    {
     "name": "stdout",
     "output_type": "stream",
     "text": [
      "[ True False  True ...  True  True False]\n",
      "C = 0.01, Ein = 0.0038436899423446302\n",
      "C = 0.01, total support vectors = [174 173]\n",
      "[ True  True  True ...  True  True False]\n",
      "C = 0.01, Eout = 0.021226415094339646\n",
      "[ True False  True ...  True  True False]\n",
      "C = 1, Ein = 0.004484304932735439\n",
      "C = 1, total support vectors = [17 13]\n",
      "[ True  True  True ...  True  True False]\n",
      "C = 1, Eout = 0.021226415094339646\n",
      "[ True False  True ...  True  True False]\n",
      "C = 100, Ein = 0.0032030749519538215\n",
      "C = 100, total support vectors = [11  9]\n",
      "[ True  True  True ...  True  True False]\n",
      "C = 100, Eout = 0.018867924528301883\n",
      "[ True False  True ...  True  True False]\n",
      "C = 14000.0, Ein = 0.002562459961563124\n",
      "C = 14000.0, total support vectors = [9 7]\n",
      "[ True  True  True ...  True  True False]\n",
      "C = 14000.0, Eout = 0.021226415094339646\n",
      "[ True False  True ...  True  True False]\n",
      "C = 1000000.0, Ein = 0.0012812299807815064\n",
      "C = 1000000.0, total support vectors = [11  7]\n",
      "[ True  True  True ...  True  True False]\n",
      "C = 1000000.0, Eout = 0.021226415094339646\n",
      "[0.0038436899423446302, 0.004484304932735439, 0.0032030749519538215, 0.002562459961563124, 0.0012812299807815064]\n",
      "[array([174, 173], dtype=int32), array([17, 13], dtype=int32), array([11,  9], dtype=int32), array([9, 7], dtype=int32), array([11,  7], dtype=int32)]\n",
      "[0.021226415094339646, 0.021226415094339646, 0.018867924528301883, 0.021226415094339646, 0.021226415094339646]\n",
      "                 Ein num of support vectors      Eout\n",
      "0.01        0.003844             [174, 173]  0.021226\n",
      "1.00        0.004484               [17, 13]  0.021226\n",
      "100.00      0.003203                [11, 9]  0.018868\n",
      "14000.00    0.002562                 [9, 7]  0.021226\n",
      "1000000.00  0.001281                [11, 7]  0.021226\n"
     ]
    },
    {
     "name": "stderr",
     "output_type": "stream",
     "text": [
      "/Users/r38411/anaconda3/lib/python3.7/site-packages/sklearn/svm/base.py:196: FutureWarning: The default value of gamma will change from 'auto' to 'scale' in version 0.22 to account better for unscaled features. Set gamma explicitly to 'auto' or 'scale' to avoid this warning.\n",
      "  \"avoid this warning.\", FutureWarning)\n",
      "/Users/r38411/anaconda3/lib/python3.7/site-packages/sklearn/svm/base.py:196: FutureWarning: The default value of gamma will change from 'auto' to 'scale' in version 0.22 to account better for unscaled features. Set gamma explicitly to 'auto' or 'scale' to avoid this warning.\n",
      "  \"avoid this warning.\", FutureWarning)\n",
      "/Users/r38411/anaconda3/lib/python3.7/site-packages/sklearn/svm/base.py:196: FutureWarning: The default value of gamma will change from 'auto' to 'scale' in version 0.22 to account better for unscaled features. Set gamma explicitly to 'auto' or 'scale' to avoid this warning.\n",
      "  \"avoid this warning.\", FutureWarning)\n",
      "/Users/r38411/anaconda3/lib/python3.7/site-packages/sklearn/svm/base.py:196: FutureWarning: The default value of gamma will change from 'auto' to 'scale' in version 0.22 to account better for unscaled features. Set gamma explicitly to 'auto' or 'scale' to avoid this warning.\n",
      "  \"avoid this warning.\", FutureWarning)\n",
      "/Users/r38411/anaconda3/lib/python3.7/site-packages/sklearn/svm/base.py:196: FutureWarning: The default value of gamma will change from 'auto' to 'scale' in version 0.22 to account better for unscaled features. Set gamma explicitly to 'auto' or 'scale' to avoid this warning.\n",
      "  \"avoid this warning.\", FutureWarning)\n"
     ]
    }
   ],
   "source": [
    "testEin_1v1_RGB()"
   ]
  },
  {
   "cell_type": "code",
   "execution_count": 44,
   "metadata": {},
   "outputs": [],
   "source": [
    "def testEin_1v1():\n",
    "    X, Y1 = loadFile(\"./features.train.txt\")\n",
    "    testX, testY = loadFile(\"./features.test.txt\")\n",
    "    #groups = [0, 2, 4, 6, 8]\n",
    "    groups = [0]\n",
    "    Ein_All = []\n",
    "    Eout_All = []\n",
    "    svc_num = []\n",
    "    #CList = [0.001, 0.01, 0.1, 1]\n",
    "    CList = [0.0001, 0.001, 0.01, 1]\n",
    "    for c in CList:\n",
    "        group1 = 1\n",
    "        group2 = 5\n",
    "        X2, Y2 = modifyY_1v1(X, Y1, group1, group2)\n",
    "        svclassifier = SVC(kernel='poly', degree=2, C=c, verbose=False)\n",
    "        svclassifier.fit(X2, Y2)\n",
    "        y_pred = svclassifier.predict(X2)\n",
    "        \n",
    "        Ein = 1 - sum(Y2 == y_pred)/len(Y2)\n",
    "        print('C = ' + str(c) + \", Ein = \" + str(Ein))\n",
    "        Ein_All.append(Ein)\n",
    "        \n",
    "        num = svclassifier.n_support_\n",
    "        print('C = ' + str(c) + \", total support vectors = \" + str(num))\n",
    "        svc_num.append(num)\n",
    "        \n",
    "        # examine Eout\n",
    "        testX2, testY2 = modifyY_1v1(testX, testY, group1, group2)\n",
    "        testy_pred = svclassifier.predict(testX2)\n",
    "        Eout = 1 - sum(testY2 == testy_pred)/len(testY2)\n",
    "        print('C = ' + str(c) + \", Eout = \" + str(Eout))\n",
    "        Eout_All.append(Eout)\n",
    "        \n",
    "    print(Ein_All)\n",
    "    print(svc_num)\n",
    "    print(Eout_All)\n",
    "    df = buildDF(CList, Ein_All, svc_num, Eout_All)\n",
    "    print(df)"
   ]
  },
  {
   "cell_type": "code",
   "execution_count": 45,
   "metadata": {},
   "outputs": [
    {
     "name": "stdout",
     "output_type": "stream",
     "text": [
      "[ True False  True ...  True  True False]\n",
      "C = 0.0001, Ein = 0.022421524663677084\n",
      "C = 0.0001, total support vectors = [255 255]\n",
      "[ True  True  True ...  True  True False]\n",
      "C = 0.0001, Eout = 0.030660377358490587\n",
      "[ True False  True ...  True  True False]\n",
      "C = 0.001, Ein = 0.007046764894298563\n",
      "C = 0.001, total support vectors = [76 76]\n",
      "[ True  True  True ...  True  True False]\n",
      "C = 0.001, Eout = 0.018867924528301883\n",
      "[ True False  True ...  True  True False]\n",
      "C = 0.01, Ein = 0.004484304932735439\n",
      "C = 0.01, total support vectors = [27 27]\n",
      "[ True  True  True ...  True  True False]\n",
      "C = 0.01, Eout = 0.018867924528301883\n",
      "[ True False  True ...  True  True False]\n",
      "C = 1, Ein = 0.004484304932735439\n",
      "C = 1, total support vectors = [13 12]\n",
      "[ True  True  True ...  True  True False]\n",
      "C = 1, Eout = 0.018867924528301883\n",
      "[0.022421524663677084, 0.007046764894298563, 0.004484304932735439, 0.004484304932735439]\n",
      "[array([255, 255], dtype=int32), array([76, 76], dtype=int32), array([27, 27], dtype=int32), array([13, 12], dtype=int32)]\n",
      "[0.030660377358490587, 0.018867924528301883, 0.018867924528301883, 0.018867924528301883]\n",
      "             Ein num of support vectors      Eout\n",
      "0.0001  0.022422             [255, 255]  0.030660\n",
      "0.0010  0.007047               [76, 76]  0.018868\n",
      "0.0100  0.004484               [27, 27]  0.018868\n",
      "1.0000  0.004484               [13, 12]  0.018868\n"
     ]
    },
    {
     "name": "stderr",
     "output_type": "stream",
     "text": [
      "/Users/r38411/anaconda3/lib/python3.7/site-packages/sklearn/svm/base.py:196: FutureWarning: The default value of gamma will change from 'auto' to 'scale' in version 0.22 to account better for unscaled features. Set gamma explicitly to 'auto' or 'scale' to avoid this warning.\n",
      "  \"avoid this warning.\", FutureWarning)\n",
      "/Users/r38411/anaconda3/lib/python3.7/site-packages/sklearn/svm/base.py:196: FutureWarning: The default value of gamma will change from 'auto' to 'scale' in version 0.22 to account better for unscaled features. Set gamma explicitly to 'auto' or 'scale' to avoid this warning.\n",
      "  \"avoid this warning.\", FutureWarning)\n",
      "/Users/r38411/anaconda3/lib/python3.7/site-packages/sklearn/svm/base.py:196: FutureWarning: The default value of gamma will change from 'auto' to 'scale' in version 0.22 to account better for unscaled features. Set gamma explicitly to 'auto' or 'scale' to avoid this warning.\n",
      "  \"avoid this warning.\", FutureWarning)\n",
      "/Users/r38411/anaconda3/lib/python3.7/site-packages/sklearn/svm/base.py:196: FutureWarning: The default value of gamma will change from 'auto' to 'scale' in version 0.22 to account better for unscaled features. Set gamma explicitly to 'auto' or 'scale' to avoid this warning.\n",
      "  \"avoid this warning.\", FutureWarning)\n"
     ]
    }
   ],
   "source": [
    "testEin_1v1()"
   ]
  },
  {
   "cell_type": "code",
   "execution_count": null,
   "metadata": {},
   "outputs": [],
   "source": [
    "def testEin():\n",
    "    X, Y1 = loadFile(\"./features.train.txt\")\n",
    "    #groups = [0, 2, 4, 6, 8]\n",
    "    groups = [0, 2, 4, 6, 8, 1, 3, 5, 7, 9]\n",
    "    Ein_All = []\n",
    "    svc_num = []\n",
    "    for group1 in groups:\n",
    "        Y2 = modifyY(Y1, group1)\n",
    "        svclassifier = SVC(kernel='poly', degree=2, C=0.01, verbose=False)\n",
    "        svclassifier.fit(X, Y2)\n",
    "        y_pred = svclassifier.predict(X)\n",
    "        \n",
    "        Ein = 1 - sum(Y2 == y_pred)/len(Y2)\n",
    "        print('group1 = ' + str(group1) + \", Ein = \" + str(Ein))\n",
    "        Ein_All.append(Ein)\n",
    "        \n",
    "        num = svclassifier.n_support_\n",
    "        print('group1 = ' + str(group1) + \", total support vectors = \" + str(num))\n",
    "        svc_num.append(num)\n",
    "    print(Ein_All)\n",
    "    print(svc_num)\n",
    "    df = buildDF(groups, Ein_All, svc_num)\n",
    "    print(df)"
   ]
  },
  {
   "cell_type": "code",
   "execution_count": null,
   "metadata": {},
   "outputs": [],
   "source": [
    "testEin()"
   ]
  },
  {
   "cell_type": "code",
   "execution_count": 46,
   "metadata": {},
   "outputs": [],
   "source": [
    "?SVC"
   ]
  },
  {
   "cell_type": "code",
   "execution_count": null,
   "metadata": {},
   "outputs": [],
   "source": []
  }
 ],
 "metadata": {
  "kernelspec": {
   "display_name": "Python 3",
   "language": "python",
   "name": "python3"
  },
  "language_info": {
   "codemirror_mode": {
    "name": "ipython",
    "version": 3
   },
   "file_extension": ".py",
   "mimetype": "text/x-python",
   "name": "python",
   "nbconvert_exporter": "python",
   "pygments_lexer": "ipython3",
   "version": "3.7.3"
  }
 },
 "nbformat": 4,
 "nbformat_minor": 2
}
